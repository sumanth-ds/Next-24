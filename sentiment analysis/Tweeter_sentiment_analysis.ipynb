{
  "cells": [
    {
      "cell_type": "code",
      "execution_count": 1,
      "metadata": {
        "colab": {
          "base_uri": "https://localhost:8080/"
        },
        "id": "bk2WrUQnE3cK",
        "outputId": "0e142ac5-cca2-4df4-e6b8-620265fd9a0a"
      },
      "outputs": [
        {
          "output_type": "stream",
          "name": "stdout",
          "text": [
            "Mounted at /content/drive\n"
          ]
        }
      ],
      "source": [
        "from google.colab import drive\n",
        "drive.mount('/content/drive')"
      ]
    },
    {
      "cell_type": "code",
      "execution_count": 2,
      "metadata": {
        "id": "ZSKLg4SQR10W"
      },
      "outputs": [],
      "source": [
        "import re\n",
        "import nltk\n",
        "import pandas as pd\n",
        "import seaborn as sns\n",
        "import numpy as np\n",
        "import string\n",
        "from nltk.tokenize import word_tokenize\n",
        "import matplotlib.pyplot as plt\n",
        "from sklearn.feature_extraction.text import TfidfVectorizer\n",
        "from nltk.corpus import stopwords\n",
        "from nltk import pos_tag\n",
        "from nltk.stem.wordnet import WordNetLemmatizer\n",
        "from sklearn.model_selection import train_test_split\n",
        "from tqdm import tqdm\n",
        "from sklearn.linear_model import SGDClassifier,LogisticRegression\n",
        "from sklearn.svm import SVC\n",
        "from sklearn.ensemble import GradientBoostingClassifier,RandomForestClassifier"
      ]
    },
    {
      "cell_type": "code",
      "execution_count": 3,
      "metadata": {
        "id": "rwVA_TF0SExP"
      },
      "outputs": [],
      "source": [
        "tweets= pd.read_csv(\"/content/drive/MyDrive/input/twitter_training.csv\",header=None)\n",
        "tweets_test = pd.read_csv('/content/drive/MyDrive/input/twitter_validation.csv',header=None)"
      ]
    },
    {
      "cell_type": "code",
      "execution_count": 4,
      "metadata": {
        "colab": {
          "base_uri": "https://localhost:8080/"
        },
        "id": "E_8ygigLSIR4",
        "outputId": "95f310d5-093d-4f39-96ea-97d020c98b07"
      },
      "outputs": [
        {
          "output_type": "stream",
          "name": "stderr",
          "text": [
            "<ipython-input-4-4a462bd5e6a7>:3: SettingWithCopyWarning: \n",
            "A value is trying to be set on a copy of a slice from a DataFrame\n",
            "\n",
            "See the caveats in the documentation: https://pandas.pydata.org/pandas-docs/stable/user_guide/indexing.html#returning-a-view-versus-a-copy\n",
            "  tweets.dropna(inplace=True)\n",
            "<ipython-input-4-4a462bd5e6a7>:4: SettingWithCopyWarning: \n",
            "A value is trying to be set on a copy of a slice from a DataFrame\n",
            "\n",
            "See the caveats in the documentation: https://pandas.pydata.org/pandas-docs/stable/user_guide/indexing.html#returning-a-view-versus-a-copy\n",
            "  tweets.drop_duplicates(inplace=True)\n"
          ]
        }
      ],
      "source": [
        "tweets=tweets[[2,3]]\n",
        "tweets.columns = [\"sentiment\",\"text\"]\n",
        "tweets.dropna(inplace=True)\n",
        "tweets.drop_duplicates(inplace=True)\n"
      ]
    },
    {
      "cell_type": "code",
      "execution_count": 5,
      "metadata": {
        "colab": {
          "base_uri": "https://localhost:8080/",
          "height": 241
        },
        "id": "t03pevgEG8bQ",
        "outputId": "bac95da3-cf15-42bb-e84f-7c76be8b0840"
      },
      "outputs": [
        {
          "output_type": "execute_result",
          "data": {
            "text/plain": [
              "sentiment\n",
              "Negative      0.304390\n",
              "Positive      0.274305\n",
              "Neutral       0.245238\n",
              "Irrelevant    0.176067\n",
              "Name: proportion, dtype: float64"
            ],
            "text/html": [
              "<div>\n",
              "<style scoped>\n",
              "    .dataframe tbody tr th:only-of-type {\n",
              "        vertical-align: middle;\n",
              "    }\n",
              "\n",
              "    .dataframe tbody tr th {\n",
              "        vertical-align: top;\n",
              "    }\n",
              "\n",
              "    .dataframe thead th {\n",
              "        text-align: right;\n",
              "    }\n",
              "</style>\n",
              "<table border=\"1\" class=\"dataframe\">\n",
              "  <thead>\n",
              "    <tr style=\"text-align: right;\">\n",
              "      <th></th>\n",
              "      <th>proportion</th>\n",
              "    </tr>\n",
              "    <tr>\n",
              "      <th>sentiment</th>\n",
              "      <th></th>\n",
              "    </tr>\n",
              "  </thead>\n",
              "  <tbody>\n",
              "    <tr>\n",
              "      <th>Negative</th>\n",
              "      <td>0.304390</td>\n",
              "    </tr>\n",
              "    <tr>\n",
              "      <th>Positive</th>\n",
              "      <td>0.274305</td>\n",
              "    </tr>\n",
              "    <tr>\n",
              "      <th>Neutral</th>\n",
              "      <td>0.245238</td>\n",
              "    </tr>\n",
              "    <tr>\n",
              "      <th>Irrelevant</th>\n",
              "      <td>0.176067</td>\n",
              "    </tr>\n",
              "  </tbody>\n",
              "</table>\n",
              "</div><br><label><b>dtype:</b> float64</label>"
            ]
          },
          "metadata": {},
          "execution_count": 5
        }
      ],
      "source": [
        "tweets.sentiment.value_counts(normalize=True)"
      ]
    },
    {
      "cell_type": "code",
      "execution_count": 6,
      "metadata": {
        "id": "UE7DDTkUHWyt",
        "colab": {
          "base_uri": "https://localhost:8080/"
        },
        "outputId": "b2157672-73e0-44ce-f3e9-e44add35a91b"
      },
      "outputs": [
        {
          "output_type": "stream",
          "name": "stderr",
          "text": [
            "<ipython-input-6-08c81265a69b>:1: SettingWithCopyWarning: \n",
            "A value is trying to be set on a copy of a slice from a DataFrame\n",
            "\n",
            "See the caveats in the documentation: https://pandas.pydata.org/pandas-docs/stable/user_guide/indexing.html#returning-a-view-versus-a-copy\n",
            "  tweets.loc[tweets[\"sentiment\"]=='Irrelevant','sentiment']='Neutral'\n"
          ]
        }
      ],
      "source": [
        "tweets.loc[tweets[\"sentiment\"]=='Irrelevant','sentiment']='Neutral'"
      ]
    },
    {
      "cell_type": "code",
      "execution_count": 7,
      "metadata": {
        "colab": {
          "base_uri": "https://localhost:8080/",
          "height": 209
        },
        "id": "8bqxwyuNLB2V",
        "outputId": "bf325dc4-e4e8-4571-e3a4-57738af6f66a"
      },
      "outputs": [
        {
          "output_type": "execute_result",
          "data": {
            "text/plain": [
              "sentiment\n",
              "Neutral     0.421305\n",
              "Negative    0.304390\n",
              "Positive    0.274305\n",
              "Name: proportion, dtype: float64"
            ],
            "text/html": [
              "<div>\n",
              "<style scoped>\n",
              "    .dataframe tbody tr th:only-of-type {\n",
              "        vertical-align: middle;\n",
              "    }\n",
              "\n",
              "    .dataframe tbody tr th {\n",
              "        vertical-align: top;\n",
              "    }\n",
              "\n",
              "    .dataframe thead th {\n",
              "        text-align: right;\n",
              "    }\n",
              "</style>\n",
              "<table border=\"1\" class=\"dataframe\">\n",
              "  <thead>\n",
              "    <tr style=\"text-align: right;\">\n",
              "      <th></th>\n",
              "      <th>proportion</th>\n",
              "    </tr>\n",
              "    <tr>\n",
              "      <th>sentiment</th>\n",
              "      <th></th>\n",
              "    </tr>\n",
              "  </thead>\n",
              "  <tbody>\n",
              "    <tr>\n",
              "      <th>Neutral</th>\n",
              "      <td>0.421305</td>\n",
              "    </tr>\n",
              "    <tr>\n",
              "      <th>Negative</th>\n",
              "      <td>0.304390</td>\n",
              "    </tr>\n",
              "    <tr>\n",
              "      <th>Positive</th>\n",
              "      <td>0.274305</td>\n",
              "    </tr>\n",
              "  </tbody>\n",
              "</table>\n",
              "</div><br><label><b>dtype:</b> float64</label>"
            ]
          },
          "metadata": {},
          "execution_count": 7
        }
      ],
      "source": [
        "tweets.sentiment.value_counts(normalize=True)\n"
      ]
    },
    {
      "cell_type": "code",
      "execution_count": 8,
      "metadata": {
        "colab": {
          "base_uri": "https://localhost:8080/"
        },
        "id": "dnbuoHQiS6Dv",
        "outputId": "5a3699ee-86e7-4d31-b7b3-465402a4312f"
      },
      "outputs": [
        {
          "output_type": "stream",
          "name": "stderr",
          "text": [
            "[nltk_data] Downloading package stopwords to /root/nltk_data...\n",
            "[nltk_data]   Unzipping corpora/stopwords.zip.\n",
            "[nltk_data] Downloading package punkt to /root/nltk_data...\n",
            "[nltk_data]   Unzipping tokenizers/punkt.zip.\n",
            "[nltk_data] Downloading package averaged_perceptron_tagger to\n",
            "[nltk_data]     /root/nltk_data...\n",
            "[nltk_data]   Unzipping taggers/averaged_perceptron_tagger.zip.\n",
            "[nltk_data] Downloading package wordnet to /root/nltk_data...\n"
          ]
        },
        {
          "output_type": "execute_result",
          "data": {
            "text/plain": [
              "True"
            ]
          },
          "metadata": {},
          "execution_count": 8
        }
      ],
      "source": [
        "nltk.download('stopwords')\n",
        "nltk.download('punkt')\n",
        "nltk.download('averaged_perceptron_tagger')\n",
        "nltk.download('wordnet')\n"
      ]
    },
    {
      "cell_type": "code",
      "execution_count": 9,
      "metadata": {
        "colab": {
          "base_uri": "https://localhost:8080/"
        },
        "id": "SiZJAi4dTLo3",
        "outputId": "9ec65d81-b5d1-4afd-a738-8383b0c71a5b"
      },
      "outputs": [
        {
          "output_type": "stream",
          "name": "stderr",
          "text": [
            "100%|██████████| 69769/69769 [01:39<00:00, 701.05it/s]\n"
          ]
        }
      ],
      "source": [
        "#pos tag,lemmatization,removing stopwords\n",
        "\n",
        "from textblob import TextBlob\n",
        "from nltk.corpus import stopwords\n",
        "from bs4 import BeautifulSoup\n",
        "from nltk import pos_tag\n",
        "from nltk.corpus import wordnet\n",
        "stopWords = set(stopwords.words('english'))-{'no','not','neither'}\n",
        "def nltk_to_wordnet(tag):\n",
        "    if tag.startswith('J'):\n",
        "        return wordnet.ADJ\n",
        "    elif tag.startswith('V'):\n",
        "        return wordnet.VERB\n",
        "    elif tag.startswith('N'):\n",
        "        return wordnet.NOUN\n",
        "    elif tag.startswith('R'):\n",
        "        return wordnet.ADV\n",
        "    else:\n",
        "        return None\n",
        "\n",
        "def pos_tagging_and_lemmatization(text):\n",
        "    lemmatizer = WordNetLemmatizer()\n",
        "    tokens = word_tokenize(text)\n",
        "    tagged = pos_tag(tokens)\n",
        "    lemmatized_words = []\n",
        "    for word, tag in tagged:\n",
        "        wn_tag = nltk_to_wordnet(tag)\n",
        "        if wn_tag is None:\n",
        "            lemmatized_word = lemmatizer.lemmatize(word)\n",
        "        else:\n",
        "            lemmatized_word = lemmatizer.lemmatize(word, pos=wn_tag)\n",
        "        lemmatized_words.append(lemmatized_word)\n",
        "\n",
        "    return lemmatized_words\n",
        "\n",
        "def text_preprocessing(text):\n",
        "    clean_text=[]\n",
        "    for sentence in tqdm(text):\n",
        "        sentence = re.sub(r'(https?://\\S+|www\\.\\S+|\\b\\w+\\.\\w+\\b)','',sentence)\n",
        "        sentence = re.sub(r'@\\s*\\S+',' ',sentence)\n",
        "        sentence= re.sub(r'https:\\S+',' ',sentence)\n",
        "        sentence=re.sub(r'\\s+',' ',sentence)\n",
        "        sentence = re.sub(r\"[^a-zA-Z]+\",' ',sentence).lower().strip()\n",
        "        lemma_words = pos_tagging_and_lemmatization(sentence)\n",
        "        sentence = ' '.join(lemma_words)\n",
        "        clean_text.append(sentence.strip())\n",
        "    return clean_text\n",
        "\n",
        "\n",
        "\n",
        "clean_text=text_preprocessing(tweets.text.values)\n",
        "\n",
        "\n",
        "tfidf = TfidfVectorizer(ngram_range=(1,2),min_df=10,max_features=300000)\n",
        "tf_count=tfidf.fit_transform(clean_text)"
      ]
    },
    {
      "cell_type": "code",
      "execution_count": 10,
      "metadata": {
        "id": "MiQW5wntTTUh",
        "colab": {
          "base_uri": "https://localhost:8080/"
        },
        "outputId": "c8a21e44-893f-47b0-e255-d2d935c3309e"
      },
      "outputs": [
        {
          "output_type": "stream",
          "name": "stdout",
          "text": [
            "              precision    recall  f1-score   support\n",
            "\n",
            "           0       0.90      0.89      0.90     16975\n",
            "           1       0.87      0.91      0.89     23425\n",
            "           2       0.90      0.85      0.87     15415\n",
            "\n",
            "    accuracy                           0.89     55815\n",
            "   macro avg       0.89      0.88      0.89     55815\n",
            "weighted avg       0.89      0.89      0.89     55815\n",
            "\n",
            "              precision    recall  f1-score   support\n",
            "\n",
            "           0       0.82      0.81      0.82      4262\n",
            "           1       0.81      0.85      0.83      5969\n",
            "           2       0.82      0.76      0.79      3723\n",
            "\n",
            "    accuracy                           0.82     13954\n",
            "   macro avg       0.82      0.81      0.81     13954\n",
            "weighted avg       0.82      0.82      0.82     13954\n",
            "\n"
          ]
        }
      ],
      "source": [
        "from sklearn import metrics\n",
        "from sklearn.metrics import classification_report\n",
        "y= tweets.sentiment.astype('category').cat.codes\n",
        "X_train,X_test,y_train,y_test = train_test_split(tf_count,y,test_size=0.2,random_state=42)\n",
        "xg = LogisticRegression(solver='saga',max_iter=5000,multi_class='multinomial')\n",
        "xg.fit(X_train,y_train)\n",
        "y_train_preds = xg.predict(X_train)\n",
        "y_test_preds = xg.predict(X_test)\n",
        "print(classification_report(y_train,y_train_preds))\n",
        "print(classification_report(y_test,y_test_preds))"
      ]
    },
    {
      "cell_type": "code",
      "execution_count": 11,
      "metadata": {
        "id": "USixaGVpzDqA",
        "colab": {
          "base_uri": "https://localhost:8080/"
        },
        "outputId": "c39fa04b-4920-4d43-d1c6-88ca716de62e"
      },
      "outputs": [
        {
          "output_type": "execute_result",
          "data": {
            "text/plain": [
              "((55815, 22110), (13954, 22110))"
            ]
          },
          "metadata": {},
          "execution_count": 11
        }
      ],
      "source": [
        "X_train.shape,X_test.shape"
      ]
    },
    {
      "cell_type": "code",
      "execution_count": 12,
      "metadata": {
        "id": "-oWu5GOzzV4C",
        "colab": {
          "base_uri": "https://localhost:8080/"
        },
        "outputId": "4e1aeb24-d1c6-4206-866f-d19d00fdaeef"
      },
      "outputs": [
        {
          "output_type": "stream",
          "name": "stdout",
          "text": [
            "              precision    recall  f1-score   support\n",
            "\n",
            "           0       0.99      0.99      0.99     16975\n",
            "           1       0.99      0.99      0.99     23425\n",
            "           2       0.99      0.99      0.99     15415\n",
            "\n",
            "    accuracy                           0.99     55815\n",
            "   macro avg       0.99      0.99      0.99     55815\n",
            "weighted avg       0.99      0.99      0.99     55815\n",
            "\n",
            "              precision    recall  f1-score   support\n",
            "\n",
            "           0       0.94      0.90      0.92      4262\n",
            "           1       0.89      0.96      0.92      5969\n",
            "           2       0.94      0.87      0.90      3723\n",
            "\n",
            "    accuracy                           0.92     13954\n",
            "   macro avg       0.92      0.91      0.92     13954\n",
            "weighted avg       0.92      0.92      0.92     13954\n",
            "\n"
          ]
        }
      ],
      "source": [
        "xg = RandomForestClassifier(n_estimators=175,criterion='entropy',oob_score=True,n_jobs=30)\n",
        "xg.fit(X_train,y_train)\n",
        "y_train_preds = xg.predict(X_train)\n",
        "y_test_preds = xg.predict(X_test)\n",
        "print(classification_report(y_train,y_train_preds))\n",
        "print(classification_report(y_test,y_test_preds))"
      ]
    },
    {
      "cell_type": "code",
      "execution_count": 12,
      "metadata": {
        "id": "Y0Ce4bmpTb7S"
      },
      "outputs": [],
      "source": []
    }
  ],
  "metadata": {
    "accelerator": "GPU",
    "colab": {
      "gpuType": "T4",
      "provenance": []
    },
    "kernelspec": {
      "display_name": "Python 3",
      "name": "python3"
    },
    "language_info": {
      "name": "python"
    }
  },
  "nbformat": 4,
  "nbformat_minor": 0
}